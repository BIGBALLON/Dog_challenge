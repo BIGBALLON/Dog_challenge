{
 "cells": [
  {
   "cell_type": "code",
   "execution_count": 23,
   "metadata": {
    "collapsed": true
   },
   "outputs": [],
   "source": [
    "#-*-coding:utf-8-*- \n",
    "# __author__ = BIGBALLON\n",
    "# __copyright__ = Copyright 2017-2018, MIT\n",
    "\n",
    "from PIL import Image\n",
    "import numpy as np\n",
    "from numpy import *\n",
    "import time\n",
    "import pickle\n",
    "\n",
    "train_pic_path = \"./train_ima_no_val/\"\n",
    "train_pic_val_path = \"./train_ima_val/\"\n"
   ]
  },
  {
   "cell_type": "code",
   "execution_count": 24,
   "metadata": {
    "collapsed": true
   },
   "outputs": [],
   "source": [
    "def get112image(img_path):\n",
    "    img = Image.open(img_path)\n",
    "    ori_w,ori_h = img.size\n",
    "    new_w = 224.0;\n",
    "    new_h = 224.0;\n",
    "    if ori_w > ori_h:\n",
    "        bs = 224.0 / ori_h;\n",
    "        new_w = ori_w * bs\n",
    "        weight = int(new_w)\n",
    "        height = int(new_h)\n",
    "        img = img.resize( (weight, height), Image.BILINEAR )\n",
    "        region = ( weight / 2 - 112, 0, weight / 2 + 112, height)\n",
    "        img = img.crop( region )\n",
    "    else:\n",
    "        bs = 224.0 / ori_w;\n",
    "        new_h = ori_h * bs\n",
    "        weight = int(new_w)\n",
    "        height = int(new_h)\n",
    "        img = img.resize( (weight, height), Image.BILINEAR )\n",
    "        region = ( 0, height / 2 - 112 , weight, height / 2 + 112  )\n",
    "        img = img.crop( region )\n",
    "    img = img.resize( (112, 112), Image.BILINEAR )\n",
    "#     x = np.array( img, dtype = 'float32')\n",
    "    x = np.array(img)\n",
    "#     test = Image.fromarray(uint8(x), 'RGB')\n",
    "#     test.show()\n",
    "#     img.show()\n",
    "    return x"
   ]
  },
  {
   "cell_type": "code",
   "execution_count": 25,
   "metadata": {},
   "outputs": [
    {
     "name": "stdout",
     "output_type": "stream",
     "text": [
      "images: 500, name = 3670585578,3631028785, class_id = 7\n",
      "images: 1000, name = 1268498670,3574760914, class_id = 115\n",
      "images: 1500, name = 3918196638,2688951964, class_id = 82\n",
      "images: 2000, name = 1982307061,1136226899, class_id = 77\n",
      "images: 2000\n",
      "Time taken: 25.066 seconds.\n"
     ]
    }
   ],
   "source": [
    "train_list = []\n",
    "y_list = []\n",
    "cnt = 0\n",
    "start = time.time()\n",
    "with open(\"./shuf_train.txt\", \"r\") as f:\n",
    "    for line in f:\n",
    "        name,class_id,_ = line.split(' ')\n",
    "        picname = train_pic_path + name + \".jpg\"\n",
    "        x = get112image(picname)\n",
    "        train_list.append(x)\n",
    "        y_list.append(class_id)\n",
    "        cnt = cnt + 1\n",
    "        if cnt % 500 == 0:\n",
    "            print(\"images: %d, name = %s, class_id = %s\" %(cnt,name,class_id))\n",
    "        if cnt == 2000:\n",
    "            break;\n",
    "        \n",
    "print(\"images: %d\" %(cnt))\n",
    "elapsed = time.time() - start\n",
    "print(\"Time taken: %.3f seconds.\" %(elapsed))\n",
    "\n",
    "############################################\n",
    "# just for testing\n",
    "############################################\n",
    "\n",
    "# y = np.array(train_list,dtype = 'float32')\n",
    "# print(y.shape)\n",
    "# y[0,:,:,:]\n",
    "\n",
    "# with open(\"traindata\", \"wb\") as fp:   #Pickling\n",
    "#     pickle.dump(train_list, fp)\n",
    "    \n",
    "# with open(\"traindata\", \"rb\") as fp:   # Unpickling\n",
    "#     b = pickle.load(fp)\n",
    "# print(np.array(b).shape)"
   ]
  },
  {
   "cell_type": "code",
   "execution_count": 26,
   "metadata": {
    "scrolled": true
   },
   "outputs": [
    {
     "name": "stdout",
     "output_type": "stream",
     "text": [
      "images: 500, name = 1843688815,2266536215, class_id = 123\n",
      "images: 1000, name = 2146814185,2295650614, class_id = 42\n",
      "images: 1500, name = 109633989,2251679175, class_id = 62\n",
      "images: 2000, name = 112275591,91426430, class_id = 86\n",
      "images: 2000\n",
      "Time taken: 25.789 seconds.\n"
     ]
    }
   ],
   "source": [
    "cnt = 0\n",
    "start = time.time()\n",
    "with open(\"./shuf_train_val.txt\", \"r\") as f:\n",
    "    for line in f:\n",
    "        name,class_id,_ = line.split(' ')\n",
    "        picname = train_pic_val_path + name + \".jpg\"\n",
    "        x = get112image(picname)\n",
    "        train_list.append(x)\n",
    "        y_list.append(class_id)\n",
    "        cnt = cnt + 1\n",
    "        if cnt % 500 == 0:\n",
    "            print(\"images: %d, name = %s, class_id = %s\" %(cnt,name,class_id))\n",
    "        if cnt == 2000:\n",
    "            break;\n",
    "print(\"images: %d\" %(cnt))\n",
    "elapsed = time.time() - start\n",
    "print(\"Time taken: %.3f seconds.\" %(elapsed))\n"
   ]
  },
  {
   "cell_type": "code",
   "execution_count": 27,
   "metadata": {
    "collapsed": true
   },
   "outputs": [],
   "source": [
    "train_list = np.array(train_list,dtype = 'float32')\n",
    "y_list = np.array(y_list,dtype = 'float32')\n",
    "with open(\"train_x\", \"wb\") as fp:   #Pickling\n",
    "    pickle.dump(train_list, fp)\n",
    "\n",
    "with open(\"train_y\", \"wb\") as fp:   #Pickling\n",
    "    pickle.dump(y_list, fp)\n"
   ]
  },
  {
   "cell_type": "code",
   "execution_count": null,
   "metadata": {
    "collapsed": true
   },
   "outputs": [],
   "source": []
  },
  {
   "cell_type": "code",
   "execution_count": null,
   "metadata": {
    "collapsed": true
   },
   "outputs": [],
   "source": []
  },
  {
   "cell_type": "code",
   "execution_count": null,
   "metadata": {
    "collapsed": true
   },
   "outputs": [],
   "source": []
  },
  {
   "cell_type": "code",
   "execution_count": null,
   "metadata": {
    "collapsed": true
   },
   "outputs": [],
   "source": []
  },
  {
   "cell_type": "code",
   "execution_count": null,
   "metadata": {
    "collapsed": true
   },
   "outputs": [],
   "source": []
  }
 ],
 "metadata": {
  "kernelspec": {
   "display_name": "Python 3",
   "language": "python",
   "name": "python3"
  },
  "language_info": {
   "codemirror_mode": {
    "name": "ipython",
    "version": 2
   },
   "file_extension": ".py",
   "mimetype": "text/x-python",
   "name": "python",
   "nbconvert_exporter": "python",
   "pygments_lexer": "ipython2",
   "version": "2.7.13"
  }
 },
 "nbformat": 4,
 "nbformat_minor": 2
}
