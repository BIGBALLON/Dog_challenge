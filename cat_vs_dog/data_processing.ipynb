{
 "cells": [
  {
   "cell_type": "code",
   "execution_count": 4,
   "metadata": {},
   "outputs": [],
   "source": [
    "import os\n",
    "import sys\n",
    "import cv2\n",
    "import h5py\n",
    "import tensorflow as tf\n",
    "import numpy as np\n",
    "import pandas as pd\n",
    "import matplotlib.pyplot as plt\n",
    "from time import time\n",
    "from datetime import datetime\n",
    "from tqdm import tqdm\n",
    "import pickle"
   ]
  },
  {
   "cell_type": "code",
   "execution_count": 3,
   "metadata": {},
   "outputs": [
    {
     "name": "stderr",
     "output_type": "stream",
     "text": [
      "100%|██████████| 12500/12500 [00:49<00:00, 252.36it/s]\n",
      "100%|██████████| 12500/12500 [00:48<00:00, 260.08it/s]"
     ]
    },
    {
     "name": "stdout",
     "output_type": "stream",
     "text": [
      "Training Data Size = 3.50 GB\n"
     ]
    },
    {
     "name": "stderr",
     "output_type": "stream",
     "text": [
      "\n"
     ]
    }
   ],
   "source": [
    "height = 224\n",
    "labels = np.array([0] * 12500 + [1] * 12500)\n",
    "img_db = np.zeros((25000, height, height, 3), dtype=np.uint8)\n",
    "\n",
    "\n",
    "for i in tqdm(range(12500)):\n",
    "    img = cv2.imread('./train2/cat/%s.jpg' % str(i))\n",
    "    img = cv2.resize(img, (height, height))\n",
    "    img_db[i] = img\n",
    "    \n",
    "for i in tqdm(range(12500)):\n",
    "    img = cv2.imread('./train2/dog/%s.jpg' % str(i))\n",
    "    img = cv2.resize(img, (height, height))\n",
    "    img_db[i + 12500] = img\n",
    "\n",
    "\n",
    "# test = np.zeros((12500, height, height, 3), dtype=np.uint8)    \n",
    "# for i in tqdm(range(12500)):\n",
    "#     img = cv2.imread('./test2/test/%s.jpg' % str(i + 1))\n",
    "#     img = cv2.resize(img, (height, height))\n",
    "#     test[i] = img\n",
    "    \n",
    "print('Training Data Size = %.2f GB' % (sys.getsizeof(train)/1024**3))\n",
    "# print('Testing Data Size = %.2f GB' % (sys.getsizeof(test)/1024**3))"
   ]
  },
  {
   "cell_type": "code",
   "execution_count": null,
   "metadata": {},
   "outputs": [],
   "source": [
    "zeros = np.zeros(12500, dtype=np.uint8)    # cat = 0\n",
    "ones = np.ones(12500, dtype=np.uint8)      # dog = 1\n",
    "img_labels = np.concatenate((zeros, ones))\n",
    "\n",
    "img_index = np.arange(25000)\n",
    "np.random.shuffle(img_index)\n",
    "img_db_shuffled = np.zeros((25000, height, height, 3), dtype=np.uint8)\n",
    "img_labels_shuffled = np.zeros((25000,), dtype=np.uint8)\n",
    "j = 0\n",
    "for i in img_index:\n",
    "    img_db_shuffled[j] = img_db[i]\n",
    "    img_labels_shuffled[j] = img_labels[i]\n",
    "    j += 1\n",
    "\n",
    "obj = {'data': img_db_shuffled, 'label': img_labels_shuffled}\n",
    "with open('training_set.p', 'wb') as file:\n",
    "    pickle.dump(obj, file)"
   ]
  },
  {
   "cell_type": "code",
   "execution_count": null,
   "metadata": {},
   "outputs": [],
   "source": []
  },
  {
   "cell_type": "code",
   "execution_count": null,
   "metadata": {},
   "outputs": [],
   "source": [
    "with open('training_set.p', 'rb') as f:\n",
    "    training_set = pickle.load(f)\n",
    "\n",
    "img_db = training_set['data']\n",
    "img_labels = training_set['label']\n",
    "img_db.shape"
   ]
  },
  {
   "cell_type": "code",
   "execution_count": null,
   "metadata": {},
   "outputs": [],
   "source": [
    "# 检验一下打散图片和标签的关系是否正确\n",
    "img_id = np.random.choice(range(25000))\n",
    "plt.imshow(img_db_shuffled[img_id], cmap='gray')\n",
    "label = 'Cat'\n",
    "if img_labels_shuffled[img_id] == 1:\n",
    "    label = 'Dog'\n",
    "plt.title(label)\n",
    "plt.show()"
   ]
  }
 ],
 "metadata": {
  "kernelspec": {
   "display_name": "Python 3",
   "language": "python",
   "name": "python3"
  },
  "language_info": {
   "codemirror_mode": {
    "name": "ipython",
    "version": 3
   },
   "file_extension": ".py",
   "mimetype": "text/x-python",
   "name": "python",
   "nbconvert_exporter": "python",
   "pygments_lexer": "ipython3",
   "version": "3.5.2"
  }
 },
 "nbformat": 4,
 "nbformat_minor": 2
}
